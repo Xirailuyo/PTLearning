{
  "nbformat": 4,
  "nbformat_minor": 0,
  "metadata": {
    "colab": {
      "name": "Classifier.ipynb",
      "provenance": [],
      "include_colab_link": true
    },
    "kernelspec": {
      "name": "python3",
      "display_name": "Python 3"
    }
  },
  "cells": [
    {
      "cell_type": "markdown",
      "metadata": {
        "id": "view-in-github",
        "colab_type": "text"
      },
      "source": [
        "<a href=\"https://colab.research.google.com/github/Xirailuyo/PTLearning/blob/master/Classifier.ipynb\" target=\"_parent\"><img src=\"https://colab.research.google.com/assets/colab-badge.svg\" alt=\"Open In Colab\"/></a>"
      ]
    },
    {
      "cell_type": "markdown",
      "metadata": {
        "id": "Rt-ut7xSy7nD",
        "colab_type": "text"
      },
      "source": [
        "Steps:\n",
        "1. Load and Normalize Data\n",
        "2. Define CNN\n",
        "3. Define Loss and Optimizer\n",
        "4. Train Network on Training\n",
        "5. Test Network on Test"
      ]
    },
    {
      "cell_type": "markdown",
      "metadata": {
        "id": "tqTOQ-8hzP6S",
        "colab_type": "text"
      },
      "source": [
        "## Load and Normalize Data"
      ]
    },
    {
      "cell_type": "code",
      "metadata": {
        "id": "lKqxn7meypBo",
        "colab_type": "code",
        "colab": {}
      },
      "source": [
        "import torch\n",
        "import torchvision\n",
        "import torchvision.transforms as transforms"
      ],
      "execution_count": 0,
      "outputs": []
    },
    {
      "cell_type": "code",
      "metadata": {
        "id": "JoX5FtfazOjA",
        "colab_type": "code",
        "outputId": "7c773807-f68a-4436-8899-267cc991cde6",
        "colab": {
          "base_uri": "https://localhost:8080/",
          "height": 51
        }
      },
      "source": [
        "# transform datasets to tensors normalized to [-1,1]\n",
        "\n",
        "# Combines ToTensor and Normalize transform operations \n",
        "transform = transforms.Compose(\n",
        "  [transforms.ToTensor(),\n",
        "  transforms.Normalize((0.5,0.5,0.5), (0.5,0.5,0.5))])\n",
        "\n",
        "# import data\n",
        "trainset = torchvision.datasets.CIFAR10(root='./data', train=True,\n",
        "                                       download=True, transform=transform)\n",
        "# create dataloader based on trainset tensors\n",
        "trainloader = torch.utils.data.DataLoader(trainset, batch_size=4,\n",
        "                                         shuffle=True, num_workers=2)\n",
        "\n",
        "testset = torchvision.datasets.CIFAR10(root='./data', train=False,\n",
        "                                      download=True, transform=transform)\n",
        "testloader = torch.utils.data.DataLoader(testset, batch_size=4,\n",
        "                                        shuffle=False, num_workers=2)\n",
        "\n",
        "classes = ('plane', 'car', 'bird', 'cat', 'deer',\n",
        "          'dog', 'frog', 'horse', 'ship', 'truck')"
      ],
      "execution_count": 0,
      "outputs": [
        {
          "output_type": "stream",
          "text": [
            "Files already downloaded and verified\n",
            "Files already downloaded and verified\n"
          ],
          "name": "stdout"
        }
      ]
    },
    {
      "cell_type": "code",
      "metadata": {
        "id": "fgBZdCHW0WVi",
        "colab_type": "code",
        "outputId": "cf215118-7553-45bd-88a5-06f2dcd1925e",
        "colab": {
          "base_uri": "https://localhost:8080/",
          "height": 155
        }
      },
      "source": [
        "# display training images\n",
        "import matplotlib.pyplot as plt\n",
        "import numpy as np\n",
        "\n",
        "def imshow(img):\n",
        "  # reduce resolution by 2 and add border?\n",
        "  img = img/2 + 0.5\n",
        "  npimg = img.numpy()\n",
        "  plt.imshow(np.transpose(npimg, (1,2,0)))\n",
        "  plt.show()\n",
        "  \n",
        "# select random training images\n",
        "dataiter = iter(trainloader)\n",
        "images, labels = dataiter.next()\n",
        "\n",
        "# show images\n",
        "imshow(torchvision.utils.make_grid(images))\n",
        "# print labels\n",
        "print(' '.join('%5s' % classes[labels[j]] for j in range(4)))"
      ],
      "execution_count": 0,
      "outputs": [
        {
          "output_type": "display_data",
          "data": {
            "image/png": "[encoded data removed]",
            "text/plain": [
              "<Figure size 432x288 with 1 Axes>"
            ]
          },
          "metadata": {
            "tags": []
          }
        },
        {
          "output_type": "stream",
          "text": [
            "  car   cat   cat  deer\n"
          ],
          "name": "stdout"
        }
      ]
    },
    {
      "cell_type": "markdown",
      "metadata": {
        "id": "q4rV7ZnVPi21",
        "colab_type": "text"
      },
      "source": [
        "## Define CNN"
      ]
    },
    {
      "cell_type": "code",
      "metadata": {
        "id": "DT-LKt0t04wk",
        "colab_type": "code",
        "colab": {}
      },
      "source": [
        "import torch.nn as nn\n",
        "import torch.nn.functional as F\n",
        "\n",
        "class Net(nn.Module):\n",
        "  # define characteristics of the Net Class\n",
        "  def __init__(self):\n",
        "    # allows for multiple inheritances\n",
        "    super(Net, self).__init__()\n",
        "    # convolution layer\n",
        "    self.conv1 = nn.Conv2d(3,6,5)\n",
        "    # pooling layer\n",
        "    self.pool = nn.MaxPool2d(2,2)\n",
        "    # 2nd convolution layer\n",
        "    self.conv2 = nn.Conv2d(6,16,5)\n",
        "    # 3 linear layers reducing and abstracting the data\n",
        "    self.fc1 = nn.Linear(16*5*5,120)\n",
        "    self.fc2 = nn.Linear(120,84)\n",
        "    self.fc3 = nn.Linear(84,10)\n",
        "\n",
        "  def forward(self,x):\n",
        "    # use relu to determine actions of convolution layers \n",
        "    x = self.pool(F.relu(self.conv1(x)))\n",
        "    x = self.pool(F.relu(self.conv2(x)))\n",
        "    x = x.view(-1,16*5*5)\n",
        "    # relu through linear layers (fc3 provides output)\n",
        "    x = F.relu(self.fc1(x))\n",
        "    x = F.relu(self.fc2(x))\n",
        "    return x\n",
        "\n",
        "net = Net()"
      ],
      "execution_count": 0,
      "outputs": []
    },
    {
      "cell_type": "markdown",
      "metadata": {
        "id": "ann5u85cQPLg",
        "colab_type": "text"
      },
      "source": [
        "## Define Loss and Optimizer"
      ]
    },
    {
      "cell_type": "code",
      "metadata": {
        "id": "b92pq9cMQM3e",
        "colab_type": "code",
        "colab": {}
      },
      "source": [
        "# Cross-Entropy loss and SGD with momentum\n",
        "\n",
        "# optimization package\n",
        "import torch.optim as optim\n",
        "\n",
        "criterion = nn.CrossEntropyLoss()\n",
        "optimizer = optim.SGD(net.parameters(), lr=.001, momentum=.9)"
      ],
      "execution_count": 0,
      "outputs": []
    },
    {
      "cell_type": "markdown",
      "metadata": {
        "id": "KIxTEQwTXL2x",
        "colab_type": "text"
      },
      "source": [
        "## Train Network on Training"
      ]
    },
    {
      "cell_type": "code",
      "metadata": {
        "id": "PbzrEq-YShZk",
        "colab_type": "code",
        "outputId": "64150bbd-d0c2-4c88-8abe-f9b29c9dba8d",
        "colab": {
          "base_uri": "https://localhost:8080/",
          "height": 238
        }
      },
      "source": [
        "# loop over data iterator and feed inputs, then optimize\n",
        "\n",
        "# two passes over the dataset\n",
        "for epoch in range(2):\n",
        "\n",
        "  running_loss = .0\n",
        "  for i, data in enumerate(trainloader, 0):\n",
        "    # get inputs; data is a list of [inputs, labels]\n",
        "    inputs, labels = data\n",
        "\n",
        "    # zero the parameter gradients\n",
        "    optimizer.zero_grad()\n",
        "\n",
        "    # forward + backward + optimize\n",
        "    outputs = net(inputs)\n",
        "    loss = criterion(outputs, labels)\n",
        "    loss.backward()\n",
        "    optimizer.step()\n",
        "\n",
        "    # print statistics\n",
        "    running_loss += loss.item()\n",
        "    if i % 2000 == 1999: # print every 2000 mini-batches\n",
        "      print('[%d, %5d] loss: %.3f' %\n",
        "            (epoch+1, i+1, running_loss/2000))\n",
        "      running_loss = .0\n",
        "\n",
        "print('Finished Training')"
      ],
      "execution_count": 0,
      "outputs": [
        {
          "output_type": "stream",
          "text": [
            "[1,  2000] loss: 2.707\n",
            "[1,  4000] loss: 2.117\n",
            "[1,  6000] loss: 1.896\n",
            "[1,  8000] loss: 1.541\n",
            "[1, 10000] loss: 1.496\n",
            "[1, 12000] loss: 1.417\n",
            "[2,  2000] loss: 1.349\n",
            "[2,  4000] loss: 1.322\n",
            "[2,  6000] loss: 1.305\n",
            "[2,  8000] loss: 1.280\n",
            "[2, 10000] loss: 1.259\n",
            "[2, 12000] loss: 1.227\n",
            "Finished Training\n"
          ],
          "name": "stdout"
        }
      ]
    },
    {
      "cell_type": "markdown",
      "metadata": {
        "id": "geAXmOIcUFcn",
        "colab_type": "text"
      },
      "source": [
        "## Test Network on Test"
      ]
    },
    {
      "cell_type": "code",
      "metadata": {
        "id": "LRGw5ad_XzFO",
        "colab_type": "code",
        "outputId": "664dba9f-7ce0-4ad5-bb17-f0df8fc9f2f7",
        "colab": {
          "base_uri": "https://localhost:8080/",
          "height": 155
        }
      },
      "source": [
        "# predictions - actual\n",
        "\n",
        "# a few sample images\n",
        "dataiter = iter(testloader)\n",
        "images, labels = dataiter.next()\n",
        "\n",
        "# print images\n",
        "imshow(torchvision.utils.make_grid(images))\n",
        "print('GroundTruth: ', ' '.join('%5s'%classes[labels[j]] for j in range(4)))"
      ],
      "execution_count": 0,
      "outputs": [
        {
          "output_type": "display_data",
          "data": {
            "image/png": "[encoded data removed]",
            "text/plain": [
              "<Figure size 432x288 with 1 Axes>"
            ]
          },
          "metadata": {
            "tags": []
          }
        },
        {
          "output_type": "stream",
          "text": [
            "GroundTruth:    cat  ship  ship plane\n"
          ],
          "name": "stdout"
        }
      ]
    },
    {
      "cell_type": "code",
      "metadata": {
        "id": "kqZcUxpDUaIQ",
        "colab_type": "code",
        "colab": {}
      },
      "source": [
        "# How to load a dataset without rerunning the train\n",
        "# net = Net()\n",
        "# net.load_state_dict(torch.load(PATH))"
      ],
      "execution_count": 0,
      "outputs": []
    },
    {
      "cell_type": "code",
      "metadata": {
        "id": "uwitENNuU2ei",
        "colab_type": "code",
        "outputId": "1ec303f8-ca7e-4615-ffdd-8795c3f7364a",
        "colab": {
          "base_uri": "https://localhost:8080/",
          "height": 34
        }
      },
      "source": [
        "# counters\n",
        "correct = 0\n",
        "total = 0\n",
        "# using CPU\n",
        "with torch.no_grad():\n",
        "  for data in testloader: # go through entire test dataset\n",
        "    images, labels = data # divide data into two components\n",
        "    outputs = net(images) # put images into net\n",
        "    _, predicted = torch.max(outputs.data, 1) # take max (classification)\n",
        "    total += labels.size(0) # number of labels\n",
        "    correct += (predicted == labels).sum().item() # number correct\n",
        "\n",
        "print('Accuracy of the network on the 10000 test images: %d %%' % (\n",
        "    100*correct/total\n",
        "))"
      ],
      "execution_count": 0,
      "outputs": [
        {
          "output_type": "stream",
          "text": [
            "Accuracy of the network on the 10000 test images: 56 %\n"
          ],
          "name": "stdout"
        }
      ]
    },
    {
      "cell_type": "code",
      "metadata": {
        "id": "oldLiXn5Vt7-",
        "colab_type": "code",
        "outputId": "995919de-6189-4315-8564-f48bb89b40b2",
        "colab": {
          "base_uri": "https://localhost:8080/",
          "height": 187
        }
      },
      "source": [
        "# which classes performed well?\n",
        "class_correct = list(0. for i in range(10))\n",
        "class_total = list(0. for i in range(10))\n",
        "with torch.no_grad():\n",
        "  for data in testloader:\n",
        "    images, labels = data\n",
        "    outputs = net(images)\n",
        "    _, predicted = torch.max(outputs, 1)\n",
        "    c = (predicted == labels).squeeze() # dimensional reduction of unnecessary dimensions\n",
        "    for i in range(4):\n",
        "      label = labels[i]\n",
        "      class_correct[label] += c[i].item()\n",
        "      class_total[label] += 1\n",
        "\n",
        "for i in range(10):\n",
        "  print('Accuracy of %5s : %2d %%' % (\n",
        "      classes[i], 100*class_correct[i]/class_total[i]\n",
        "  ))"
      ],
      "execution_count": 0,
      "outputs": [
        {
          "output_type": "stream",
          "text": [
            "Accuracy of plane : 58 %\n",
            "Accuracy of   car : 52 %\n",
            "Accuracy of  bird : 20 %\n",
            "Accuracy of   cat : 29 %\n",
            "Accuracy of  deer : 54 %\n",
            "Accuracy of   dog : 50 %\n",
            "Accuracy of  frog : 80 %\n",
            "Accuracy of horse : 66 %\n",
            "Accuracy of  ship : 82 %\n",
            "Accuracy of truck : 69 %\n"
          ],
          "name": "stdout"
        }
      ]
    }
  ]
}
