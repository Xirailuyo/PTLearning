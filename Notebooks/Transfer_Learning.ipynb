{
  "nbformat": 4,
  "nbformat_minor": 0,
  "metadata": {
    "colab": {
      "name": "Transfer Learning.ipynb",
      "provenance": [],
      "collapsed_sections": [],
      "include_colab_link": true
    },
    "kernelspec": {
      "name": "python3",
      "display_name": "Python 3"
    }
  },
  "cells": [
    {
      "cell_type": "markdown",
      "metadata": {
        "id": "view-in-github",
        "colab_type": "text"
      },
      "source": [
        "<a href=\"https://colab.research.google.com/github/Xirailuyo/PTLearning/blob/master/Notebooks/Transfer_Learning.ipynb\" target=\"_parent\"><img src=\"https://colab.research.google.com/assets/colab-badge.svg\" alt=\"Open In Colab\"/></a>"
      ]
    },
    {
      "cell_type": "code",
      "metadata": {
        "id": "rrlmWQ4YQNPH",
        "colab_type": "code",
        "outputId": "f166cae4-4278-4666-aaba-6647b774362c",
        "colab": {
          "base_uri": "https://localhost:8080/",
          "height": 122
        }
      },
      "source": [
        "from google.colab import drive\n",
        "drive.mount('/content/drive')"
      ],
      "execution_count": 3,
      "outputs": [
        {
          "output_type": "stream",
          "text": [
            "Go to this URL in a browser: https://accounts.google.com/o/oauth2/auth?client_id=947318989803-6bn6qk8qdgf4n4g3pfee6491hc0brc4i.apps.googleusercontent.com&redirect_uri=urn%3aietf%3awg%3aoauth%3a2.0%3aoob&response_type=code&scope=email%20https%3a%2f%2fwww.googleapis.com%2fauth%2fdocs.test%20https%3a%2f%2fwww.googleapis.com%2fauth%2fdrive%20https%3a%2f%2fwww.googleapis.com%2fauth%2fdrive.photos.readonly%20https%3a%2f%2fwww.googleapis.com%2fauth%2fpeopleapi.readonly\n",
            "\n",
            "Enter your authorization code:\n",
            "··········\n",
            "Mounted at /content/drive\n"
          ],
          "name": "stdout"
        }
      ]
    },
    {
      "cell_type": "code",
      "metadata": {
        "id": "mfR-buSiQ7AO",
        "colab_type": "code",
        "colab": {}
      },
      "source": [
        "from __future__ import print_function, division\n",
        "\n",
        "import torch\n",
        "import torch.nn as nn\n",
        "import torch.optim as optim\n",
        "from torch.optim import lr_scheduler\n",
        "import numpy as np\n",
        "import torchvision\n",
        "from torchvision import datasets, models, transforms\n",
        "import matplotlib.pyplot as plt\n",
        "import time\n",
        "import os\n",
        "import copy\n",
        "\n",
        "plt.ion()"
      ],
      "execution_count": 0,
      "outputs": []
    },
    {
      "cell_type": "markdown",
      "metadata": {
        "id": "gFaRbaFEO5mz",
        "colab_type": "text"
      },
      "source": [
        "# Load Data"
      ]
    },
    {
      "cell_type": "code",
      "metadata": {
        "id": "DRunInp-O3sn",
        "colab_type": "code",
        "colab": {}
      },
      "source": [
        "# transforms will be used to define image datasets\n",
        "data_transforms = {\n",
        "    'train': transforms.Compose([ # combining function\n",
        "        transforms.RandomResizedCrop(224),\n",
        "        transforms.RandomHorizontalFlip(),\n",
        "        transforms.ToTensor(),\n",
        "        # Q: why normalize to these values?\n",
        "        transforms.Normalize([0.485,0.456,0.406], [0.229,0.224,0.225])\n",
        "    ]),\n",
        "    'val': transforms.Compose([\n",
        "        transforms.Resize(256),\n",
        "        transforms.CenterCrop(224),\n",
        "        transforms.ToTensor(),\n",
        "        transforms.Normalize([0.485,0.456,0.406], [0.229,0.224,0.225])\n",
        "    ])\n",
        "}\n",
        "\n",
        "data_dir = 'drive/My Drive/PyTorch/data/hymenoptera_data'\n",
        "# for data_dir/train/ants, data_dir/train/bees, data_dir/valid/ants,\n",
        "# data_dir/valid/bees, apply transforms to jpgs data and package them\n",
        "# into an ImageFolder\n",
        "image_datasets = {x: datasets.ImageFolder(os.path.join(data_dir, x),\n",
        "                                          data_transforms[x])\n",
        "                  for x in ['train', 'val']}\n",
        "# package ImageFolder into a DataLoader, a deep learning for loop\n",
        "# that utilizes batches and shuffling\n",
        "dataloaders = {x: torch.utils.data.DataLoader(image_datasets[x],\n",
        "                                              batch_size=4,\n",
        "                                              shuffle=True,\n",
        "                                              num_workers=4)\n",
        "              for x in ['train', 'val']}\n",
        "# get lengths and classes of dataset\n",
        "dataset_sizes = {x: len(image_datasets[x]) for x in ['train', 'val']}\n",
        "class_names = image_datasets['train'].classes\n",
        "\n",
        "# add cuda if possible\n",
        "device = torch.device('cuda:0' if torch.cuda.is_available() else 'cpu')"
      ],
      "execution_count": 0,
      "outputs": []
    },
    {
      "cell_type": "markdown",
      "metadata": {
        "id": "DeEc1SlaLP7K",
        "colab_type": "text"
      },
      "source": [
        "# Visualize Images"
      ]
    },
    {
      "cell_type": "code",
      "metadata": {
        "id": "7vbPQlVNSPqm",
        "colab_type": "code",
        "outputId": "007d8435-01a0-48b8-e75e-4ce9047ae710",
        "colab": {
          "base_uri": "https://localhost:8080/",
          "height": 148
        }
      },
      "source": [
        "# print function for images\n",
        "def imshow(inp, title=None):\n",
        "  inp = inp.numpy().transpose((1,2,0))\n",
        "  # numbers are based on dataset?\n",
        "  mean = np.array([0.485,0.456,0.406])\n",
        "  std = np.array([0.229,0.224,0.225])\n",
        "  inp = std*inp+mean\n",
        "  inp = np.clip(inp,0,1) # limits inp array\n",
        "  plt.imshow(inp)\n",
        "  if title is not None:\n",
        "    plt.title(title)\n",
        "  plt.pause(0.001)\n",
        "\n",
        "# batch of training data\n",
        "inputs, classes = next(iter(dataloaders['train']))\n",
        "\n",
        "# grid\n",
        "out = torchvision.utils.make_grid(inputs)\n",
        "\n",
        "imshow(out, title=[class_names[x] for x in classes])"
      ],
      "execution_count": 6,
      "outputs": [
        {
          "output_type": "display_data",
          "data": {
            "image/png": "[encoded data removed]",
            "text/plain": [
              "<Figure size 432x288 with 1 Axes>"
            ]
          },
          "metadata": {
            "tags": []
          }
        }
      ]
    },
    {
      "cell_type": "markdown",
      "metadata": {
        "id": "NJImNwAJM7vm",
        "colab_type": "text"
      },
      "source": [
        "# Training the Model"
      ]
    },
    {
      "cell_type": "code",
      "metadata": {
        "id": "lNhlooAzM88c",
        "colab_type": "code",
        "colab": {}
      },
      "source": [
        "def train_model(model, criterion, optimizer, scheduler, num_epochs=25):\n",
        "  since = time.time()\n",
        "  \n",
        "  # initilize optimization values\n",
        "  best_model_wts = copy.deepcopy(model.state_dict())\n",
        "  best_acc = 0.0\n",
        "\n",
        "  for epoch in range(num_epochs):\n",
        "    # print statements\n",
        "    print('Epoch {}/{}'.format(epoch, num_epochs-1))\n",
        "    print('-' * 10)\n",
        "\n",
        "    # training and validation phase for each epoch\n",
        "    for phase in ['train', 'val']:\n",
        "      if phase == 'train':\n",
        "        model.train()\n",
        "      else:\n",
        "        model.eval()\n",
        "\n",
        "      running_loss = 0.0\n",
        "      running_corrects = 0\n",
        "\n",
        "      # iterate over data (dataloaders) using phase from for loop\n",
        "      for inputs, labels in dataloaders[phase]:\n",
        "        inputs = inputs.to(device)\n",
        "        labels = labels.to(device)\n",
        "\n",
        "        # zero the parameter gradients of THE OPTIMIZER\n",
        "        optimizer.zero_grad()\n",
        "\n",
        "        # Forward Pass\n",
        "        # track history in train, not validation\n",
        "        with torch.set_grad_enabled(phase == 'train'):\n",
        "          outputs = model(inputs) # outputs of model given inputs\n",
        "          _, preds = torch.max(outputs,1) # 2nd var of max is predictions\n",
        "          loss = criterion(outputs, labels) # calculate loss\n",
        "\n",
        "          # Backward Pass and Optimization in Training Phase\n",
        "          if phase == 'train':\n",
        "            loss.backward()\n",
        "            optimizer.step()\n",
        "        # statistics\n",
        "        running_loss += loss.item()*inputs.size(0)\n",
        "        running_corrects += torch.sum(preds==labels.data)\n",
        "      if phase == 'train':\n",
        "        scheduler.step()\n",
        "\n",
        "      # dataset_sizes[phase]: length of phase?\n",
        "      epoch_loss = running_loss / dataset_sizes[phase]\n",
        "      epoch_acc = running_corrects.double() / dataset_sizes[phase]\n",
        "\n",
        "      print('{} Loss: {:.4f} Acc: {:.4f}'.format(\n",
        "          phase, epoch_loss, epoch_acc))\n",
        "\n",
        "      # deep copy the model\n",
        "      if phase=='val' and epoch > best_acc:\n",
        "        best_acc = epoch_acc\n",
        "        best_model_wts = copy.deepcopy(model.state_dict())\n",
        "\n",
        "    print()\n",
        "  \n",
        "  time_elapsed = time.time() - since\n",
        "  print(\"Training complete in {:.0f}m {:.0f}s\".format(\n",
        "      time_elapsed//60, time_elapsed%60))\n",
        "  print(\"Best val Acc: {:4f}\".format(best_acc))\n",
        "\n",
        "  # load best model weights\n",
        "  model.load_state_dict(best_model_wts)\n",
        "  return model"
      ],
      "execution_count": 0,
      "outputs": []
    },
    {
      "cell_type": "markdown",
      "metadata": {
        "id": "1oMaCs3uTEv_",
        "colab_type": "text"
      },
      "source": [
        "# Visualize the Model Predictions"
      ]
    },
    {
      "cell_type": "code",
      "metadata": {
        "id": "l69RScGtSwwQ",
        "colab_type": "code",
        "colab": {}
      },
      "source": [
        "def visualize_model(model, num_images=6):\n",
        "  # initial values\n",
        "  was_training = model.training\n",
        "  model.eval()\n",
        "  images_so_far = 0\n",
        "  fig = plt.figure()\n",
        "\n",
        "  with torch.no_grad():\n",
        "    # loop through validation with counter i, inputs, and labels\n",
        "    for i , (inputs, labels) in enumerate(dataloaders['val']):\n",
        "      inputs = inputs.to(device)\n",
        "      labels = labels.to(device)\n",
        "\n",
        "      # get outputs, and prediction from outputs\n",
        "      outputs = model(inputs)\n",
        "      _, preds = torch.max(outputs, 1)\n",
        "\n",
        "      # for all inputs, plot\n",
        "      for j in range(inputs.size()[0]):\n",
        "        images_so_far += 1\n",
        "        ax = plt.subplot(num_images//2, 2, images_so_far)\n",
        "        ax.axis('off')\n",
        "        ax.set_title('predicted: {}'.format(class_names[preds[j]]))\n",
        "        imshow(inputs.cpu().data[j])\n",
        "\n",
        "        if images_so_far == num_images:\n",
        "          model.train(mode=was_training)\n",
        "          return\n",
        "    model.train(mode=was_training)\n"
      ],
      "execution_count": 0,
      "outputs": []
    },
    {
      "cell_type": "markdown",
      "metadata": {
        "id": "OAYYDvFhzg0r",
        "colab_type": "text"
      },
      "source": [
        "# Finetuning the ConvNet"
      ]
    },
    {
      "cell_type": "code",
      "metadata": {
        "id": "_b18MOAKTzpE",
        "colab_type": "code",
        "outputId": "b61c9efb-7a4c-4ff9-edb9-75b04809ed09",
        "colab": {
          "base_uri": "https://localhost:8080/",
          "height": 71
        }
      },
      "source": [
        "model_ft = models.resnet18(pretrained=True) # model features from resnet18\n",
        "num_ftrs = model_ft.fc.in_features # number of input features from model\n",
        "model_ft.fc = nn.Linear(num_ftrs, 2)\n",
        "\n",
        "model_ft = model_ft.to(device) # upload to device\n",
        "\n",
        "criterion = nn.CrossEntropyLoss()\n",
        "\n",
        "# optimizer based on parameters, learning rate, and momentum\n",
        "optimizer_ft = optim.SGD(model_ft.parameters(), lr=0.001, momentum=0.9)\n",
        "\n",
        "# exponentional learning rate scheduler using optimizer\n",
        "exp_lr_scheduler = lr_scheduler.StepLR(optimizer_ft, step_size=7,\n",
        "                                       gamma=0.1)"
      ],
      "execution_count": 9,
      "outputs": [
        {
          "output_type": "stream",
          "text": [
            "Downloading: \"https://download.pytorch.org/models/resnet18-5c106cde.pth\" to /root/.cache/torch/checkpoints/resnet18-5c106cde.pth\n",
            "100%|██████████| 44.7M/44.7M [00:00<00:00, 81.1MB/s]\n"
          ],
          "name": "stderr"
        }
      ]
    },
    {
      "cell_type": "markdown",
      "metadata": {
        "id": "AdKAXHQ7xMwH",
        "colab_type": "text"
      },
      "source": [
        "# Train and Evaluate"
      ]
    },
    {
      "cell_type": "code",
      "metadata": {
        "id": "0L1yJ1xMxMHA",
        "colab_type": "code",
        "outputId": "bdf137d8-8f0d-4969-8dcf-ce74c5581c5b",
        "colab": {
          "base_uri": "https://localhost:8080/",
          "height": 1000
        }
      },
      "source": [
        "model_ft = train_model(model_ft, criterion, optimizer_ft,\n",
        "                       exp_lr_scheduler, num_epochs=25)"
      ],
      "execution_count": 0,
      "outputs": [
        {
          "output_type": "stream",
          "text": [
            "Epoch 0/24\n",
            "----------\n",
            "train Loss: 0.6255 Acc: 0.7172\n",
            "val Loss: 0.6542 Acc: 0.8039\n",
            "\n",
            "Epoch 1/24\n",
            "----------\n",
            "train Loss: 0.7775 Acc: 0.7541\n",
            "val Loss: 0.5140 Acc: 0.8235\n",
            "\n",
            "Epoch 2/24\n",
            "----------\n",
            "train Loss: 0.5188 Acc: 0.7992\n",
            "val Loss: 0.3038 Acc: 0.8889\n",
            "\n",
            "Epoch 3/24\n",
            "----------\n",
            "train Loss: 0.6409 Acc: 0.7377\n",
            "val Loss: 0.7928 Acc: 0.7124\n",
            "\n",
            "Epoch 4/24\n",
            "----------\n",
            "train Loss: 0.6726 Acc: 0.7705\n",
            "val Loss: 0.2525 Acc: 0.8954\n",
            "\n",
            "Epoch 5/24\n",
            "----------\n",
            "train Loss: 0.5893 Acc: 0.7992\n",
            "val Loss: 0.6270 Acc: 0.8039\n",
            "\n",
            "Epoch 6/24\n",
            "----------\n",
            "train Loss: 0.5322 Acc: 0.8238\n",
            "val Loss: 0.3241 Acc: 0.8889\n",
            "\n",
            "Epoch 7/24\n",
            "----------\n",
            "train Loss: 0.3916 Acc: 0.8484\n",
            "val Loss: 0.2665 Acc: 0.8954\n",
            "\n",
            "Epoch 8/24\n",
            "----------\n",
            "train Loss: 0.3206 Acc: 0.8566\n",
            "val Loss: 0.2402 Acc: 0.9150\n",
            "\n",
            "Epoch 9/24\n",
            "----------\n",
            "train Loss: 0.3731 Acc: 0.8607\n",
            "val Loss: 0.2400 Acc: 0.9216\n",
            "\n",
            "Epoch 10/24\n",
            "----------\n",
            "train Loss: 0.2749 Acc: 0.8811\n",
            "val Loss: 0.2486 Acc: 0.9281\n",
            "\n",
            "Epoch 11/24\n",
            "----------\n",
            "train Loss: 0.4256 Acc: 0.8320\n",
            "val Loss: 0.3210 Acc: 0.8693\n",
            "\n",
            "Epoch 12/24\n",
            "----------\n",
            "train Loss: 0.2741 Acc: 0.8770\n",
            "val Loss: 0.2174 Acc: 0.9281\n",
            "\n",
            "Epoch 13/24\n",
            "----------\n",
            "train Loss: 0.2557 Acc: 0.9139\n",
            "val Loss: 0.2230 Acc: 0.9346\n",
            "\n",
            "Epoch 14/24\n",
            "----------\n",
            "train Loss: 0.2467 Acc: 0.9057\n",
            "val Loss: 0.2282 Acc: 0.9216\n",
            "\n",
            "Epoch 15/24\n",
            "----------\n",
            "train Loss: 0.2510 Acc: 0.8811\n",
            "val Loss: 0.2371 Acc: 0.9216\n",
            "\n",
            "Epoch 16/24\n",
            "----------\n",
            "train Loss: 0.2741 Acc: 0.8934\n",
            "val Loss: 0.2185 Acc: 0.9281\n",
            "\n",
            "Epoch 17/24\n",
            "----------\n",
            "train Loss: 0.3115 Acc: 0.8811\n",
            "val Loss: 0.2139 Acc: 0.9281\n",
            "\n",
            "Epoch 18/24\n",
            "----------\n",
            "train Loss: 0.2753 Acc: 0.8893\n",
            "val Loss: 0.2283 Acc: 0.9150\n",
            "\n",
            "Epoch 19/24\n",
            "----------\n",
            "train Loss: 0.2432 Acc: 0.8852\n",
            "val Loss: 0.2282 Acc: 0.9150\n",
            "\n",
            "Epoch 20/24\n",
            "----------\n",
            "train Loss: 0.2350 Acc: 0.8934\n",
            "val Loss: 0.2134 Acc: 0.9346\n",
            "\n",
            "Epoch 21/24\n",
            "----------\n",
            "train Loss: 0.2549 Acc: 0.8689\n",
            "val Loss: 0.2397 Acc: 0.9216\n",
            "\n",
            "Epoch 22/24\n",
            "----------\n",
            "train Loss: 0.2649 Acc: 0.8852\n",
            "val Loss: 0.2237 Acc: 0.9216\n",
            "\n",
            "Epoch 23/24\n",
            "----------\n",
            "train Loss: 0.2810 Acc: 0.8811\n",
            "val Loss: 0.2194 Acc: 0.9216\n",
            "\n",
            "Epoch 24/24\n",
            "----------\n"
          ],
          "name": "stdout"
        }
      ]
    },
    {
      "cell_type": "code",
      "metadata": {
        "id": "fQanIPGaxTO4",
        "colab_type": "code",
        "colab": {
          "base_uri": "https://localhost:8080/",
          "height": 184
        },
        "outputId": "c30ebed4-bdbe-43ef-8476-6c74808ae50b"
      },
      "source": [
        "visualize_model(model_ft)"
      ],
      "execution_count": 2,
      "outputs": [
        {
          "output_type": "error",
          "ename": "NameError",
          "evalue": "ignored",
          "traceback": [
            "\u001b[0;31m---------------------------------------------------------------------------\u001b[0m",
            "\u001b[0;31mNameError\u001b[0m                                 Traceback (most recent call last)",
            "\u001b[0;32m<ipython-input-2-72e004aa6e49>\u001b[0m in \u001b[0;36m<module>\u001b[0;34m()\u001b[0m\n\u001b[0;32m----> 1\u001b[0;31m \u001b[0mvisualize_model\u001b[0m\u001b[0;34m(\u001b[0m\u001b[0mmodel_ft\u001b[0m\u001b[0;34m)\u001b[0m\u001b[0;34m\u001b[0m\u001b[0;34m\u001b[0m\u001b[0m\n\u001b[0m",
            "\u001b[0;31mNameError\u001b[0m: name 'visualize_model' is not defined"
          ]
        }
      ]
    },
    {
      "cell_type": "code",
      "metadata": {
        "id": "PPiCnrmB_7QR",
        "colab_type": "code",
        "colab": {}
      },
      "source": [
        "# freeze all weights except final layer\n",
        "# requires_grad == False freezes parameters so gradients aren't\n",
        "# computed in backward() pass\n",
        "model_conv = torchvision.models.resnet18(pretrained=True)\n",
        "for param in model_conv.parameters():\n",
        "  param.requires_grad = False # freezing layers\n",
        "\n",
        "# parameters of new modules have required_grad=True by default\n",
        "num_ftrs = model_conv.fc.in_features # fully connected input features\n",
        "model_conv.fc = nn.Linear(num_ftrs, 2)\n",
        "\n",
        "model_conv = model_conv.to(device)\n",
        "\n",
        "criterion = nn.CrossEntropyLoss()\n",
        "\n",
        "# observe only final layer is optimized\n",
        "optimizer_conv = optim.SGD(model_conv.fc.parameters(), lr=0.001,\n",
        "                           momentum=0.9)\n",
        "\n",
        "# decay LR by .1 every 7 epochs\n",
        "exp_lr_scheduler = lr_scheduler.StepLR(optimizer_conv, step_size=7,\n",
        "                                       gamma=0.1)"
      ],
      "execution_count": 0,
      "outputs": []
    },
    {
      "cell_type": "code",
      "metadata": {
        "id": "83bAva6kBQtu",
        "colab_type": "code",
        "colab": {
          "base_uri": "https://localhost:8080/",
          "height": 221
        },
        "outputId": "336b3d3d-0f54-4494-d6e5-698d7de99d46"
      },
      "source": [
        "# forward pass + almost 0 gradients/backward pass = 1/2 computations\n",
        "model_conv = train_model(model_conv, criterion, optimizer_conv,\n",
        "                         exp_lr_scheduler, num_epochs=25)"
      ],
      "execution_count": 0,
      "outputs": [
        {
          "output_type": "stream",
          "text": [
            "Epoch 0/24\n",
            "----------\n",
            "train Loss: 0.5765 Acc: 0.6311\n",
            "val Loss: 0.3477 Acc: 0.8758\n",
            "\n",
            "Epoch 1/24\n",
            "----------\n",
            "train Loss: 0.5254 Acc: 0.7869\n",
            "val Loss: 0.1975 Acc: 0.9346\n",
            "\n",
            "Epoch 2/24\n",
            "----------\n"
          ],
          "name": "stdout"
        }
      ]
    },
    {
      "cell_type": "code",
      "metadata": {
        "id": "L8SluE_YBWEu",
        "colab_type": "code",
        "colab": {}
      },
      "source": [
        "visualize_model(model_conv)\n",
        "\n",
        "plt.ioff()\n",
        "plt.show()"
      ],
      "execution_count": 0,
      "outputs": []
    },
    {
      "cell_type": "code",
      "metadata": {
        "id": "UGeMSer9Bl4o",
        "colab_type": "code",
        "colab": {}
      },
      "source": [
        ""
      ],
      "execution_count": 0,
      "outputs": []
    }
  ]
}